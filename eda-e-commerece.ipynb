{
 "cells": [
  {
   "cell_type": "markdown",
   "id": "6cae7deb",
   "metadata": {
    "papermill": {
     "duration": 0.021522,
     "end_time": "2022-02-21T14:55:09.625860",
     "exception": false,
     "start_time": "2022-02-21T14:55:09.604338",
     "status": "completed"
    },
    "tags": []
   },
   "source": [
    "# Importing libraries"
   ]
  },
  {
   "cell_type": "code",
   "execution_count": 1,
   "id": "a59023db",
   "metadata": {
    "_cell_guid": "b1076dfc-b9ad-4769-8c92-a6c4dae69d19",
    "_uuid": "8f2839f25d086af736a60e9eeb907d3b93b6e0e5",
    "execution": {
     "iopub.execute_input": "2022-02-21T14:55:09.674266Z",
     "iopub.status.busy": "2022-02-21T14:55:09.669834Z",
     "iopub.status.idle": "2022-02-21T14:55:09.689438Z",
     "shell.execute_reply": "2022-02-21T14:55:09.689994Z",
     "shell.execute_reply.started": "2022-02-21T14:54:01.899031Z"
    },
    "papermill": {
     "duration": 0.047754,
     "end_time": "2022-02-21T14:55:09.690394",
     "exception": false,
     "start_time": "2022-02-21T14:55:09.642640",
     "status": "completed"
    },
    "tags": []
   },
   "outputs": [
    {
     "name": "stdout",
     "output_type": "stream",
     "text": [
      "/kaggle/input/brazilian-ecommerce/olist_customers_dataset.csv\n",
      "/kaggle/input/brazilian-ecommerce/olist_sellers_dataset.csv\n",
      "/kaggle/input/brazilian-ecommerce/olist_order_reviews_dataset.csv\n",
      "/kaggle/input/brazilian-ecommerce/olist_order_items_dataset.csv\n",
      "/kaggle/input/brazilian-ecommerce/olist_products_dataset.csv\n",
      "/kaggle/input/brazilian-ecommerce/olist_geolocation_dataset.csv\n",
      "/kaggle/input/brazilian-ecommerce/product_category_name_translation.csv\n",
      "/kaggle/input/brazilian-ecommerce/olist_orders_dataset.csv\n",
      "/kaggle/input/brazilian-ecommerce/olist_order_payments_dataset.csv\n"
     ]
    }
   ],
   "source": [
    "# This Python 3 environment comes with many helpful analytics libraries installed\n",
    "# It is defined by the kaggle/python Docker image: https://github.com/kaggle/docker-python\n",
    "# For example, here's several helpful packages to load\n",
    "\n",
    "import numpy as np # linear algebra\n",
    "import pandas as pd # data processing, CSV file I/O (e.g. pd.read_csv)\n",
    "\n",
    "# Input data files are available in the read-only \"../input/\" directory\n",
    "# For example, running this (by clicking run or pressing Shift+Enter) will list all files under the input directory\n",
    "\n",
    "import os\n",
    "for dirname, _, filenames in os.walk('/kaggle/input'):\n",
    "    for filename in filenames:\n",
    "        print(os.path.join(dirname, filename))\n",
    "\n",
    "# You can write up to 20GB to the current directory (/kaggle/working/) that gets preserved as output when you create a version using \"Save & Run All\" \n",
    "# You can also write temporary files to /kaggle/temp/, but they won't be saved outside of the current session\n",
    "from termcolor import colored\n"
   ]
  },
  {
   "cell_type": "markdown",
   "id": "d0f46dfd",
   "metadata": {
    "papermill": {
     "duration": 0.017882,
     "end_time": "2022-02-21T14:55:09.725889",
     "exception": false,
     "start_time": "2022-02-21T14:55:09.708007",
     "status": "completed"
    },
    "tags": []
   },
   "source": [
    "# Loading dataframes:"
   ]
  },
  {
   "cell_type": "code",
   "execution_count": 2,
   "id": "d1750b4e",
   "metadata": {
    "execution": {
     "iopub.execute_input": "2022-02-21T14:55:09.770000Z",
     "iopub.status.busy": "2022-02-21T14:55:09.765778Z",
     "iopub.status.idle": "2022-02-21T14:55:14.038744Z",
     "shell.execute_reply": "2022-02-21T14:55:14.037829Z",
     "shell.execute_reply.started": "2022-02-21T14:54:01.924831Z"
    },
    "papermill": {
     "duration": 4.293989,
     "end_time": "2022-02-21T14:55:14.038912",
     "exception": false,
     "start_time": "2022-02-21T14:55:09.744923",
     "status": "completed"
    },
    "tags": []
   },
   "outputs": [],
   "source": [
    "df_customer = pd.read_csv('../input/brazilian-ecommerce/olist_customers_dataset.csv')\n",
    "df_geolocation = pd.read_csv('../input/brazilian-ecommerce/olist_geolocation_dataset.csv')\n",
    "df_order_items = pd.read_csv('../input/brazilian-ecommerce/olist_order_items_dataset.csv')\n",
    "df_order_payments = pd.read_csv('../input/brazilian-ecommerce/olist_order_payments_dataset.csv')\n",
    "df_order_reviews = pd.read_csv('../input/brazilian-ecommerce/olist_order_reviews_dataset.csv')\n",
    "df_orders = pd.read_csv('../input/brazilian-ecommerce/olist_orders_dataset.csv')\n",
    "df_products = pd.read_csv('../input/brazilian-ecommerce/olist_products_dataset.csv')\n",
    "df_sellers = pd.read_csv('../input/brazilian-ecommerce/olist_products_dataset.csv')\n",
    "df_product_category_name=pd.read_csv('../input/brazilian-ecommerce/product_category_name_translation.csv')"
   ]
  },
  {
   "cell_type": "markdown",
   "id": "271c7386",
   "metadata": {
    "papermill": {
     "duration": 0.016161,
     "end_time": "2022-02-21T14:55:14.072263",
     "exception": false,
     "start_time": "2022-02-21T14:55:14.056102",
     "status": "completed"
    },
    "tags": []
   },
   "source": [
    "# Exploring our dataset:\n",
    "viewing first few cells and dimensions of each dataframe"
   ]
  },
  {
   "cell_type": "code",
   "execution_count": 3,
   "id": "dac55286",
   "metadata": {
    "execution": {
     "iopub.execute_input": "2022-02-21T14:55:14.109067Z",
     "iopub.status.busy": "2022-02-21T14:55:14.108384Z",
     "iopub.status.idle": "2022-02-21T14:55:14.114443Z",
     "shell.execute_reply": "2022-02-21T14:55:14.114972Z",
     "shell.execute_reply.started": "2022-02-21T14:54:04.334286Z"
    },
    "papermill": {
     "duration": 0.026306,
     "end_time": "2022-02-21T14:55:14.115250",
     "exception": false,
     "start_time": "2022-02-21T14:55:14.088944",
     "status": "completed"
    },
    "tags": []
   },
   "outputs": [],
   "source": [
    "def explore(fname):   \n",
    "    print(colored('\\nHead:', 'blue', attrs=['bold']))\n",
    "    print(fname.head(3).to_markdown())\n",
    "    print(colored('\\nShape:', 'blue', attrs=['bold']))\n",
    "    print(fname.shape)\n",
    "    print(colored('\\nInformation:', 'blue', attrs=['bold']))\n",
    "    print(fname.info())\n",
    "    print(colored('\\nDescribtion:', 'blue', attrs=['bold']))\n",
    "    print(fname.describe(include='all').to_markdown())"
   ]
  },
  {
   "cell_type": "code",
   "execution_count": 4,
   "id": "53413d6e",
   "metadata": {
    "execution": {
     "iopub.execute_input": "2022-02-21T14:55:14.151712Z",
     "iopub.status.busy": "2022-02-21T14:55:14.150979Z",
     "iopub.status.idle": "2022-02-21T14:55:14.447886Z",
     "shell.execute_reply": "2022-02-21T14:55:14.448532Z",
     "shell.execute_reply.started": "2022-02-21T14:54:04.345047Z"
    },
    "papermill": {
     "duration": 0.3169,
     "end_time": "2022-02-21T14:55:14.448749",
     "exception": false,
     "start_time": "2022-02-21T14:55:14.131849",
     "status": "completed"
    },
    "tags": []
   },
   "outputs": [
    {
     "name": "stdout",
     "output_type": "stream",
     "text": [
      "\u001b[1m\u001b[34m\n",
      "Head:\u001b[0m\n",
      "|    | customer_id                      | customer_unique_id               |   customer_zip_code_prefix | customer_city         | customer_state   |\n",
      "|---:|:---------------------------------|:---------------------------------|---------------------------:|:----------------------|:-----------------|\n",
      "|  0 | 06b8999e2fba1a1fbc88172c00ba8bc7 | 861eff4711a542e4b93843c6dd7febb0 |                      14409 | franca                | SP               |\n",
      "|  1 | 18955e83d337fd6b2def6b18a428ac77 | 290c77bc529b7ac935b93aa66c333dc3 |                       9790 | sao bernardo do campo | SP               |\n",
      "|  2 | 4e7b3e00288586ebd08712fdd0374a03 | 060e732b5b29e8181a18229c7b0b2b5e |                       1151 | sao paulo             | SP               |\n",
      "\u001b[1m\u001b[34m\n",
      "Shape:\u001b[0m\n",
      "(99441, 5)\n",
      "\u001b[1m\u001b[34m\n",
      "Information:\u001b[0m\n",
      "<class 'pandas.core.frame.DataFrame'>\n",
      "RangeIndex: 99441 entries, 0 to 99440\n",
      "Data columns (total 5 columns):\n",
      " #   Column                    Non-Null Count  Dtype \n",
      "---  ------                    --------------  ----- \n",
      " 0   customer_id               99441 non-null  object\n",
      " 1   customer_unique_id        99441 non-null  object\n",
      " 2   customer_zip_code_prefix  99441 non-null  int64 \n",
      " 3   customer_city             99441 non-null  object\n",
      " 4   customer_state            99441 non-null  object\n",
      "dtypes: int64(1), object(4)\n",
      "memory usage: 3.8+ MB\n",
      "None\n",
      "\u001b[1m\u001b[34m\n",
      "Describtion:\u001b[0m\n",
      "|        | customer_id                      | customer_unique_id               |   customer_zip_code_prefix | customer_city   | customer_state   |\n",
      "|:-------|:---------------------------------|:---------------------------------|---------------------------:|:----------------|:-----------------|\n",
      "| count  | 99441                            | 99441                            |                    99441   | 99441           | 99441            |\n",
      "| unique | 99441                            | 96096                            |                      nan   | 4119            | 27               |\n",
      "| top    | 06b8999e2fba1a1fbc88172c00ba8bc7 | 8d50f5eadf50201ccdcedfb9e2ac8455 |                      nan   | sao paulo       | SP               |\n",
      "| freq   | 1                                | 17                               |                      nan   | 15540           | 41746            |\n",
      "| mean   | nan                              | nan                              |                    35137.5 | nan             | nan              |\n",
      "| std    | nan                              | nan                              |                    29797.9 | nan             | nan              |\n",
      "| min    | nan                              | nan                              |                     1003   | nan             | nan              |\n",
      "| 25%    | nan                              | nan                              |                    11347   | nan             | nan              |\n",
      "| 50%    | nan                              | nan                              |                    24416   | nan             | nan              |\n",
      "| 75%    | nan                              | nan                              |                    58900   | nan             | nan              |\n",
      "| max    | nan                              | nan                              |                    99990   | nan             | nan              |\n"
     ]
    }
   ],
   "source": [
    "explore(df_customer)"
   ]
  },
  {
   "cell_type": "code",
   "execution_count": 5,
   "id": "aae05f57",
   "metadata": {
    "execution": {
     "iopub.execute_input": "2022-02-21T14:55:14.491668Z",
     "iopub.status.busy": "2022-02-21T14:55:14.490951Z",
     "iopub.status.idle": "2022-02-21T14:55:15.263419Z",
     "shell.execute_reply": "2022-02-21T14:55:15.262399Z",
     "shell.execute_reply.started": "2022-02-21T14:54:04.528779Z"
    },
    "papermill": {
     "duration": 0.797282,
     "end_time": "2022-02-21T14:55:15.263642",
     "exception": false,
     "start_time": "2022-02-21T14:55:14.466360",
     "status": "completed"
    },
    "tags": []
   },
   "outputs": [
    {
     "name": "stdout",
     "output_type": "stream",
     "text": [
      "\u001b[1m\u001b[34m\n",
      "Head:\u001b[0m\n",
      "|    |   geolocation_zip_code_prefix |   geolocation_lat |   geolocation_lng | geolocation_city   | geolocation_state   |\n",
      "|---:|------------------------------:|------------------:|------------------:|:-------------------|:--------------------|\n",
      "|  0 |                          1037 |          -23.5456 |          -46.6393 | sao paulo          | SP                  |\n",
      "|  1 |                          1046 |          -23.5461 |          -46.6448 | sao paulo          | SP                  |\n",
      "|  2 |                          1046 |          -23.5461 |          -46.643  | sao paulo          | SP                  |\n",
      "\u001b[1m\u001b[34m\n",
      "Shape:\u001b[0m\n",
      "(1000163, 5)\n",
      "\u001b[1m\u001b[34m\n",
      "Information:\u001b[0m\n",
      "<class 'pandas.core.frame.DataFrame'>\n",
      "RangeIndex: 1000163 entries, 0 to 1000162\n",
      "Data columns (total 5 columns):\n",
      " #   Column                       Non-Null Count    Dtype  \n",
      "---  ------                       --------------    -----  \n",
      " 0   geolocation_zip_code_prefix  1000163 non-null  int64  \n",
      " 1   geolocation_lat              1000163 non-null  float64\n",
      " 2   geolocation_lng              1000163 non-null  float64\n",
      " 3   geolocation_city             1000163 non-null  object \n",
      " 4   geolocation_state            1000163 non-null  object \n",
      "dtypes: float64(2), int64(1), object(2)\n",
      "memory usage: 38.2+ MB\n",
      "None\n",
      "\u001b[1m\u001b[34m\n",
      "Describtion:\u001b[0m\n",
      "|        |   geolocation_zip_code_prefix |   geolocation_lat |   geolocation_lng | geolocation_city   | geolocation_state   |\n",
      "|:-------|------------------------------:|------------------:|------------------:|:-------------------|:--------------------|\n",
      "| count  |                   1.00016e+06 |       1.00016e+06 |       1.00016e+06 | 1000163            | 1000163             |\n",
      "| unique |                 nan           |     nan           |     nan           | 8011               | 27                  |\n",
      "| top    |                 nan           |     nan           |     nan           | sao paulo          | SP                  |\n",
      "| freq   |                 nan           |     nan           |     nan           | 135800             | 404268              |\n",
      "| mean   |               36574.2         |     -21.1762      |     -46.3905      | nan                | nan                 |\n",
      "| std    |               30549.3         |       5.71587     |       4.26975     | nan                | nan                 |\n",
      "| min    |                1001           |     -36.6054      |    -101.467       | nan                | nan                 |\n",
      "| 25%    |               11075           |     -23.6035      |     -48.5732      | nan                | nan                 |\n",
      "| 50%    |               26530           |     -22.9194      |     -46.6379      | nan                | nan                 |\n",
      "| 75%    |               63504           |     -19.9796      |     -43.7677      | nan                | nan                 |\n",
      "| max    |               99990           |      45.0659      |     121.105       | nan                | nan                 |\n"
     ]
    }
   ],
   "source": [
    "explore(df_geolocation)"
   ]
  },
  {
   "cell_type": "code",
   "execution_count": 6,
   "id": "3b2e0844",
   "metadata": {
    "execution": {
     "iopub.execute_input": "2022-02-21T14:55:15.307587Z",
     "iopub.status.busy": "2022-02-21T14:55:15.306865Z",
     "iopub.status.idle": "2022-02-21T14:55:15.663075Z",
     "shell.execute_reply": "2022-02-21T14:55:15.662508Z",
     "shell.execute_reply.started": "2022-02-21T14:54:04.884825Z"
    },
    "papermill": {
     "duration": 0.379432,
     "end_time": "2022-02-21T14:55:15.663265",
     "exception": false,
     "start_time": "2022-02-21T14:55:15.283833",
     "status": "completed"
    },
    "tags": []
   },
   "outputs": [
    {
     "name": "stdout",
     "output_type": "stream",
     "text": [
      "\u001b[1m\u001b[34m\n",
      "Head:\u001b[0m\n",
      "|    | order_id                         |   order_item_id | product_id                       | seller_id                        | shipping_limit_date   |   price |   freight_value |\n",
      "|---:|:---------------------------------|----------------:|:---------------------------------|:---------------------------------|:----------------------|--------:|----------------:|\n",
      "|  0 | 00010242fe8c5a6d1ba2dd792cb16214 |               1 | 4244733e06e7ecb4970a6e2683c13e61 | 48436dade18ac8b2bce089ec2a041202 | 2017-09-19 09:45:35   |    58.9 |           13.29 |\n",
      "|  1 | 00018f77f2f0320c557190d7a144bdd3 |               1 | e5f2d52b802189ee658865ca93d83a8f | dd7ddc04e1b6c2c614352b383efe2d36 | 2017-05-03 11:05:13   |   239.9 |           19.93 |\n",
      "|  2 | 000229ec398224ef6ca0657da4fc703e |               1 | c777355d18b72b67abbeef9df44fd0fd | 5b51032eddd242adc84c38acab88f23d | 2018-01-18 14:48:30   |   199   |           17.87 |\n",
      "\u001b[1m\u001b[34m\n",
      "Shape:\u001b[0m\n",
      "(112650, 7)\n",
      "\u001b[1m\u001b[34m\n",
      "Information:\u001b[0m\n",
      "<class 'pandas.core.frame.DataFrame'>\n",
      "RangeIndex: 112650 entries, 0 to 112649\n",
      "Data columns (total 7 columns):\n",
      " #   Column               Non-Null Count   Dtype  \n",
      "---  ------               --------------   -----  \n",
      " 0   order_id             112650 non-null  object \n",
      " 1   order_item_id        112650 non-null  int64  \n",
      " 2   product_id           112650 non-null  object \n",
      " 3   seller_id            112650 non-null  object \n",
      " 4   shipping_limit_date  112650 non-null  object \n",
      " 5   price                112650 non-null  float64\n",
      " 6   freight_value        112650 non-null  float64\n",
      "dtypes: float64(2), int64(1), object(4)\n",
      "memory usage: 6.0+ MB\n",
      "None\n",
      "\u001b[1m\u001b[34m\n",
      "Describtion:\u001b[0m\n",
      "|        | order_id                         |   order_item_id | product_id                       | seller_id                        | shipping_limit_date   |      price |   freight_value |\n",
      "|:-------|:---------------------------------|----------------:|:---------------------------------|:---------------------------------|:----------------------|-----------:|----------------:|\n",
      "| count  | 112650                           |   112650        | 112650                           | 112650                           | 112650                | 112650     |     112650      |\n",
      "| unique | 98666                            |      nan        | 32951                            | 3095                             | 93318                 |    nan     |        nan      |\n",
      "| top    | 8272b63d03f5f79c56e9e4120aec44ef |      nan        | aca2eb7d00ea1a7b8ebd4e68314663af | 6560211a19b47992c3666cc44a7e94c0 | 2017-07-21 18:25:23   |    nan     |        nan      |\n",
      "| freq   | 21                               |      nan        | 527                              | 2033                             | 21                    |    nan     |        nan      |\n",
      "| mean   | nan                              |        1.19783  | nan                              | nan                              | nan                   |    120.654 |         19.9903 |\n",
      "| std    | nan                              |        0.705124 | nan                              | nan                              | nan                   |    183.634 |         15.8064 |\n",
      "| min    | nan                              |        1        | nan                              | nan                              | nan                   |      0.85  |          0      |\n",
      "| 25%    | nan                              |        1        | nan                              | nan                              | nan                   |     39.9   |         13.08   |\n",
      "| 50%    | nan                              |        1        | nan                              | nan                              | nan                   |     74.99  |         16.26   |\n",
      "| 75%    | nan                              |        1        | nan                              | nan                              | nan                   |    134.9   |         21.15   |\n",
      "| max    | nan                              |       21        | nan                              | nan                              | nan                   |   6735     |        409.68   |\n"
     ]
    }
   ],
   "source": [
    "explore(df_order_items)"
   ]
  },
  {
   "cell_type": "code",
   "execution_count": 7,
   "id": "c7669eeb",
   "metadata": {
    "execution": {
     "iopub.execute_input": "2022-02-21T14:55:15.705684Z",
     "iopub.status.busy": "2022-02-21T14:55:15.704989Z",
     "iopub.status.idle": "2022-02-21T14:55:15.903539Z",
     "shell.execute_reply": "2022-02-21T14:55:15.902843Z",
     "shell.execute_reply.started": "2022-02-21T14:54:05.108228Z"
    },
    "papermill": {
     "duration": 0.220888,
     "end_time": "2022-02-21T14:55:15.903694",
     "exception": false,
     "start_time": "2022-02-21T14:55:15.682806",
     "status": "completed"
    },
    "tags": []
   },
   "outputs": [
    {
     "name": "stdout",
     "output_type": "stream",
     "text": [
      "\u001b[1m\u001b[34m\n",
      "Head:\u001b[0m\n",
      "|    | order_id                         |   payment_sequential | payment_type   |   payment_installments |   payment_value |\n",
      "|---:|:---------------------------------|---------------------:|:---------------|-----------------------:|----------------:|\n",
      "|  0 | b81ef226f3fe1789b1e8b2acac839d17 |                    1 | credit_card    |                      8 |           99.33 |\n",
      "|  1 | a9810da82917af2d9aefd1278f1dcfa0 |                    1 | credit_card    |                      1 |           24.39 |\n",
      "|  2 | 25e8ea4e93396b6fa0d3dd708e76c1bd |                    1 | credit_card    |                      1 |           65.71 |\n",
      "\u001b[1m\u001b[34m\n",
      "Shape:\u001b[0m\n",
      "(103886, 5)\n",
      "\u001b[1m\u001b[34m\n",
      "Information:\u001b[0m\n",
      "<class 'pandas.core.frame.DataFrame'>\n",
      "RangeIndex: 103886 entries, 0 to 103885\n",
      "Data columns (total 5 columns):\n",
      " #   Column                Non-Null Count   Dtype  \n",
      "---  ------                --------------   -----  \n",
      " 0   order_id              103886 non-null  object \n",
      " 1   payment_sequential    103886 non-null  int64  \n",
      " 2   payment_type          103886 non-null  object \n",
      " 3   payment_installments  103886 non-null  int64  \n",
      " 4   payment_value         103886 non-null  float64\n",
      "dtypes: float64(1), int64(2), object(2)\n",
      "memory usage: 4.0+ MB\n",
      "None\n",
      "\u001b[1m\u001b[34m\n",
      "Describtion:\u001b[0m\n",
      "|        | order_id                         |   payment_sequential | payment_type   |   payment_installments |   payment_value |\n",
      "|:-------|:---------------------------------|---------------------:|:---------------|-----------------------:|----------------:|\n",
      "| count  | 103886                           |        103886        | 103886         |           103886       |      103886     |\n",
      "| unique | 99440                            |           nan        | 5              |              nan       |         nan     |\n",
      "| top    | fa65dad1b0e818e3ccc5cb0e39231352 |           nan        | credit_card    |              nan       |         nan     |\n",
      "| freq   | 29                               |           nan        | 76795          |              nan       |         nan     |\n",
      "| mean   | nan                              |             1.09268  | nan            |                2.85335 |         154.1   |\n",
      "| std    | nan                              |             0.706584 | nan            |                2.68705 |         217.494 |\n",
      "| min    | nan                              |             1        | nan            |                0       |           0     |\n",
      "| 25%    | nan                              |             1        | nan            |                1       |          56.79  |\n",
      "| 50%    | nan                              |             1        | nan            |                1       |         100     |\n",
      "| 75%    | nan                              |             1        | nan            |                4       |         171.838 |\n",
      "| max    | nan                              |            29        | nan            |               24       |       13664.1   |\n"
     ]
    }
   ],
   "source": [
    "explore(df_order_payments)"
   ]
  },
  {
   "cell_type": "code",
   "execution_count": 8,
   "id": "ca4b962c",
   "metadata": {
    "execution": {
     "iopub.execute_input": "2022-02-21T14:55:15.953610Z",
     "iopub.status.busy": "2022-02-21T14:55:15.950046Z",
     "iopub.status.idle": "2022-02-21T14:55:16.437442Z",
     "shell.execute_reply": "2022-02-21T14:55:16.436523Z",
     "shell.execute_reply.started": "2022-02-21T14:54:05.221609Z"
    },
    "papermill": {
     "duration": 0.513263,
     "end_time": "2022-02-21T14:55:16.437633",
     "exception": false,
     "start_time": "2022-02-21T14:55:15.924370",
     "status": "completed"
    },
    "tags": []
   },
   "outputs": [
    {
     "name": "stdout",
     "output_type": "stream",
     "text": [
      "\u001b[1m\u001b[34m\n",
      "Head:\u001b[0m\n",
      "|    | review_id                        | order_id                         |   review_score |   review_comment_title |   review_comment_message | review_creation_date   | review_answer_timestamp   |\n",
      "|---:|:---------------------------------|:---------------------------------|---------------:|-----------------------:|-------------------------:|:-----------------------|:--------------------------|\n",
      "|  0 | 7bc2406110b926393aa56f80a40eba40 | 73fc7af87114b39712e6da79b0a377eb |              4 |                    nan |                      nan | 2018-01-18 00:00:00    | 2018-01-18 21:46:59       |\n",
      "|  1 | 80e641a11e56f04c1ad469d5645fdfde | a548910a1c6147796b98fdf73dbeba33 |              5 |                    nan |                      nan | 2018-03-10 00:00:00    | 2018-03-11 03:05:13       |\n",
      "|  2 | 228ce5500dc1d8e020d8d1322874b6f0 | f9e4b658b201a9f2ecdecbb34bed034b |              5 |                    nan |                      nan | 2018-02-17 00:00:00    | 2018-02-18 14:36:24       |\n",
      "\u001b[1m\u001b[34m\n",
      "Shape:\u001b[0m\n",
      "(99224, 7)\n",
      "\u001b[1m\u001b[34m\n",
      "Information:\u001b[0m\n",
      "<class 'pandas.core.frame.DataFrame'>\n",
      "RangeIndex: 99224 entries, 0 to 99223\n",
      "Data columns (total 7 columns):\n",
      " #   Column                   Non-Null Count  Dtype \n",
      "---  ------                   --------------  ----- \n",
      " 0   review_id                99224 non-null  object\n",
      " 1   order_id                 99224 non-null  object\n",
      " 2   review_score             99224 non-null  int64 \n",
      " 3   review_comment_title     11568 non-null  object\n",
      " 4   review_comment_message   40977 non-null  object\n",
      " 5   review_creation_date     99224 non-null  object\n",
      " 6   review_answer_timestamp  99224 non-null  object\n",
      "dtypes: int64(1), object(6)\n",
      "memory usage: 5.3+ MB\n",
      "None\n",
      "\u001b[1m\u001b[34m\n",
      "Describtion:\u001b[0m\n",
      "|        | review_id                        | order_id                         |   review_score | review_comment_title   | review_comment_message   | review_creation_date   | review_answer_timestamp   |\n",
      "|:-------|:---------------------------------|:---------------------------------|---------------:|:-----------------------|:-------------------------|:-----------------------|:--------------------------|\n",
      "| count  | 99224                            | 99224                            |    99224       | 11568                  | 40977                    | 99224                  | 99224                     |\n",
      "| unique | 98410                            | 98673                            |      nan       | 4527                   | 36159                    | 636                    | 98248                     |\n",
      "| top    | 7b606b0d57b078384f0b58eac1d41d78 | c88b1d1b157a9999ce368f218a407141 |      nan       | Recomendo              | Muito bom                | 2017-12-19 00:00:00    | 2017-06-15 23:21:05       |\n",
      "| freq   | 3                                | 3                                |      nan       | 423                    | 230                      | 463                    | 4                         |\n",
      "| mean   | nan                              | nan                              |        4.08642 | nan                    | nan                      | nan                    | nan                       |\n",
      "| std    | nan                              | nan                              |        1.34758 | nan                    | nan                      | nan                    | nan                       |\n",
      "| min    | nan                              | nan                              |        1       | nan                    | nan                      | nan                    | nan                       |\n",
      "| 25%    | nan                              | nan                              |        4       | nan                    | nan                      | nan                    | nan                       |\n",
      "| 50%    | nan                              | nan                              |        5       | nan                    | nan                      | nan                    | nan                       |\n",
      "| 75%    | nan                              | nan                              |        5       | nan                    | nan                      | nan                    | nan                       |\n",
      "| max    | nan                              | nan                              |        5       | nan                    | nan                      | nan                    | nan                       |\n"
     ]
    }
   ],
   "source": [
    "explore(df_order_reviews)"
   ]
  },
  {
   "cell_type": "code",
   "execution_count": 9,
   "id": "55949f43",
   "metadata": {
    "execution": {
     "iopub.execute_input": "2022-02-21T14:55:16.579860Z",
     "iopub.status.busy": "2022-02-21T14:55:16.493060Z",
     "iopub.status.idle": "2022-02-21T14:55:17.247124Z",
     "shell.execute_reply": "2022-02-21T14:55:17.246350Z",
     "shell.execute_reply.started": "2022-02-21T14:54:05.481857Z"
    },
    "papermill": {
     "duration": 0.785986,
     "end_time": "2022-02-21T14:55:17.247358",
     "exception": false,
     "start_time": "2022-02-21T14:55:16.461372",
     "status": "completed"
    },
    "tags": []
   },
   "outputs": [
    {
     "name": "stdout",
     "output_type": "stream",
     "text": [
      "\u001b[1m\u001b[34m\n",
      "Head:\u001b[0m\n",
      "|    | order_id                         | customer_id                      | order_status   | order_purchase_timestamp   | order_approved_at   | order_delivered_carrier_date   | order_delivered_customer_date   | order_estimated_delivery_date   |\n",
      "|---:|:---------------------------------|:---------------------------------|:---------------|:---------------------------|:--------------------|:-------------------------------|:--------------------------------|:--------------------------------|\n",
      "|  0 | e481f51cbdc54678b7cc49136f2d6af7 | 9ef432eb6251297304e76186b10a928d | delivered      | 2017-10-02 10:56:33        | 2017-10-02 11:07:15 | 2017-10-04 19:55:00            | 2017-10-10 21:25:13             | 2017-10-18 00:00:00             |\n",
      "|  1 | 53cdb2fc8bc7dce0b6741e2150273451 | b0830fb4747a6c6d20dea0b8c802d7ef | delivered      | 2018-07-24 20:41:37        | 2018-07-26 03:24:27 | 2018-07-26 14:31:00            | 2018-08-07 15:27:45             | 2018-08-13 00:00:00             |\n",
      "|  2 | 47770eb9100c2d0c44946d9cf07ec65d | 41ce2a54c0b03bf3443c3d931a367089 | delivered      | 2018-08-08 08:38:49        | 2018-08-08 08:55:23 | 2018-08-08 13:50:00            | 2018-08-17 18:06:29             | 2018-09-04 00:00:00             |\n",
      "\u001b[1m\u001b[34m\n",
      "Shape:\u001b[0m\n",
      "(99441, 8)\n",
      "\u001b[1m\u001b[34m\n",
      "Information:\u001b[0m\n",
      "<class 'pandas.core.frame.DataFrame'>\n",
      "RangeIndex: 99441 entries, 0 to 99440\n",
      "Data columns (total 8 columns):\n",
      " #   Column                         Non-Null Count  Dtype \n",
      "---  ------                         --------------  ----- \n",
      " 0   order_id                       99441 non-null  object\n",
      " 1   customer_id                    99441 non-null  object\n",
      " 2   order_status                   99441 non-null  object\n",
      " 3   order_purchase_timestamp       99441 non-null  object\n",
      " 4   order_approved_at              99281 non-null  object\n",
      " 5   order_delivered_carrier_date   97658 non-null  object\n",
      " 6   order_delivered_customer_date  96476 non-null  object\n",
      " 7   order_estimated_delivery_date  99441 non-null  object\n",
      "dtypes: object(8)\n",
      "memory usage: 6.1+ MB\n",
      "None\n",
      "\u001b[1m\u001b[34m\n",
      "Describtion:\u001b[0m\n",
      "|        | order_id                         | customer_id                      | order_status   | order_purchase_timestamp   | order_approved_at   | order_delivered_carrier_date   | order_delivered_customer_date   | order_estimated_delivery_date   |\n",
      "|:-------|:---------------------------------|:---------------------------------|:---------------|:---------------------------|:--------------------|:-------------------------------|:--------------------------------|:--------------------------------|\n",
      "| count  | 99441                            | 99441                            | 99441          | 99441                      | 99281               | 97658                          | 96476                           | 99441                           |\n",
      "| unique | 99441                            | 99441                            | 8              | 98875                      | 90733               | 81018                          | 95664                           | 459                             |\n",
      "| top    | e481f51cbdc54678b7cc49136f2d6af7 | 9ef432eb6251297304e76186b10a928d | delivered      | 2018-04-11 10:48:14        | 2018-02-27 04:31:10 | 2018-05-09 15:48:00            | 2018-05-08 23:38:46             | 2017-12-20 00:00:00             |\n",
      "| freq   | 1                                | 1                                | 96478          | 3                          | 9                   | 47                             | 3                               | 522                             |\n"
     ]
    }
   ],
   "source": [
    "explore(df_orders)"
   ]
  },
  {
   "cell_type": "code",
   "execution_count": 10,
   "id": "6a9cb931",
   "metadata": {
    "execution": {
     "iopub.execute_input": "2022-02-21T14:55:17.300492Z",
     "iopub.status.busy": "2022-02-21T14:55:17.299361Z",
     "iopub.status.idle": "2022-02-21T14:55:17.385934Z",
     "shell.execute_reply": "2022-02-21T14:55:17.386488Z",
     "shell.execute_reply.started": "2022-02-21T14:54:05.884889Z"
    },
    "papermill": {
     "duration": 0.116851,
     "end_time": "2022-02-21T14:55:17.386712",
     "exception": false,
     "start_time": "2022-02-21T14:55:17.269861",
     "status": "completed"
    },
    "tags": []
   },
   "outputs": [
    {
     "name": "stdout",
     "output_type": "stream",
     "text": [
      "\u001b[1m\u001b[34m\n",
      "Head:\u001b[0m\n",
      "|    | product_id                       | product_category_name   |   product_name_lenght |   product_description_lenght |   product_photos_qty |   product_weight_g |   product_length_cm |   product_height_cm |   product_width_cm |\n",
      "|---:|:---------------------------------|:------------------------|----------------------:|-----------------------------:|---------------------:|-------------------:|--------------------:|--------------------:|-------------------:|\n",
      "|  0 | 1e9e8ef04dbcff4541ed26657ea517e5 | perfumaria              |                    40 |                          287 |                    1 |                225 |                  16 |                  10 |                 14 |\n",
      "|  1 | 3aa071139cb16b67ca9e5dea641aaa2f | artes                   |                    44 |                          276 |                    1 |               1000 |                  30 |                  18 |                 20 |\n",
      "|  2 | 96bd76ec8810374ed1b65e291975717f | esporte_lazer           |                    46 |                          250 |                    1 |                154 |                  18 |                   9 |                 15 |\n",
      "\u001b[1m\u001b[34m\n",
      "Shape:\u001b[0m\n",
      "(32951, 9)\n",
      "\u001b[1m\u001b[34m\n",
      "Information:\u001b[0m\n",
      "<class 'pandas.core.frame.DataFrame'>\n",
      "RangeIndex: 32951 entries, 0 to 32950\n",
      "Data columns (total 9 columns):\n",
      " #   Column                      Non-Null Count  Dtype  \n",
      "---  ------                      --------------  -----  \n",
      " 0   product_id                  32951 non-null  object \n",
      " 1   product_category_name       32341 non-null  object \n",
      " 2   product_name_lenght         32341 non-null  float64\n",
      " 3   product_description_lenght  32341 non-null  float64\n",
      " 4   product_photos_qty          32341 non-null  float64\n",
      " 5   product_weight_g            32949 non-null  float64\n",
      " 6   product_length_cm           32949 non-null  float64\n",
      " 7   product_height_cm           32949 non-null  float64\n",
      " 8   product_width_cm            32949 non-null  float64\n",
      "dtypes: float64(7), object(2)\n",
      "memory usage: 2.3+ MB\n",
      "None\n",
      "\u001b[1m\u001b[34m\n",
      "Describtion:\u001b[0m\n",
      "|        | product_id                       | product_category_name   |   product_name_lenght |   product_description_lenght |   product_photos_qty |   product_weight_g |   product_length_cm |   product_height_cm |   product_width_cm |\n",
      "|:-------|:---------------------------------|:------------------------|----------------------:|-----------------------------:|---------------------:|-------------------:|--------------------:|--------------------:|-------------------:|\n",
      "| count  | 32951                            | 32341                   |            32341      |                    32341     |          32341       |           32949    |          32949      |          32949      |         32949      |\n",
      "| unique | 32951                            | 73                      |              nan      |                      nan     |            nan       |             nan    |            nan      |            nan      |           nan      |\n",
      "| top    | 1e9e8ef04dbcff4541ed26657ea517e5 | cama_mesa_banho         |              nan      |                      nan     |            nan       |             nan    |            nan      |            nan      |           nan      |\n",
      "| freq   | 1                                | 3029                    |              nan      |                      nan     |            nan       |             nan    |            nan      |            nan      |           nan      |\n",
      "| mean   | nan                              | nan                     |               48.4769 |                      771.495 |              2.18899 |            2276.47 |             30.8151 |             16.9377 |            23.1967 |\n",
      "| std    | nan                              | nan                     |               10.2457 |                      635.115 |              1.73677 |            4282.04 |             16.9145 |             13.6376 |            12.079  |\n",
      "| min    | nan                              | nan                     |                5      |                        4     |              1       |               0    |              7      |              2      |             6      |\n",
      "| 25%    | nan                              | nan                     |               42      |                      339     |              1       |             300    |             18      |              8      |            15      |\n",
      "| 50%    | nan                              | nan                     |               51      |                      595     |              1       |             700    |             25      |             13      |            20      |\n",
      "| 75%    | nan                              | nan                     |               57      |                      972     |              3       |            1900    |             38      |             21      |            30      |\n",
      "| max    | nan                              | nan                     |               76      |                     3992     |             20       |           40425    |            105      |            105      |           118      |\n"
     ]
    }
   ],
   "source": [
    "explore(df_products)"
   ]
  },
  {
   "cell_type": "code",
   "execution_count": 11,
   "id": "74340449",
   "metadata": {
    "execution": {
     "iopub.execute_input": "2022-02-21T14:55:17.441711Z",
     "iopub.status.busy": "2022-02-21T14:55:17.440698Z",
     "iopub.status.idle": "2022-02-21T14:55:17.525767Z",
     "shell.execute_reply": "2022-02-21T14:55:17.526376Z",
     "shell.execute_reply.started": "2022-02-21T14:54:05.950613Z"
    },
    "papermill": {
     "duration": 0.115716,
     "end_time": "2022-02-21T14:55:17.526600",
     "exception": false,
     "start_time": "2022-02-21T14:55:17.410884",
     "status": "completed"
    },
    "tags": []
   },
   "outputs": [
    {
     "name": "stdout",
     "output_type": "stream",
     "text": [
      "\u001b[1m\u001b[34m\n",
      "Head:\u001b[0m\n",
      "|    | product_id                       | product_category_name   |   product_name_lenght |   product_description_lenght |   product_photos_qty |   product_weight_g |   product_length_cm |   product_height_cm |   product_width_cm |\n",
      "|---:|:---------------------------------|:------------------------|----------------------:|-----------------------------:|---------------------:|-------------------:|--------------------:|--------------------:|-------------------:|\n",
      "|  0 | 1e9e8ef04dbcff4541ed26657ea517e5 | perfumaria              |                    40 |                          287 |                    1 |                225 |                  16 |                  10 |                 14 |\n",
      "|  1 | 3aa071139cb16b67ca9e5dea641aaa2f | artes                   |                    44 |                          276 |                    1 |               1000 |                  30 |                  18 |                 20 |\n",
      "|  2 | 96bd76ec8810374ed1b65e291975717f | esporte_lazer           |                    46 |                          250 |                    1 |                154 |                  18 |                   9 |                 15 |\n",
      "\u001b[1m\u001b[34m\n",
      "Shape:\u001b[0m\n",
      "(32951, 9)\n",
      "\u001b[1m\u001b[34m\n",
      "Information:\u001b[0m\n",
      "<class 'pandas.core.frame.DataFrame'>\n",
      "RangeIndex: 32951 entries, 0 to 32950\n",
      "Data columns (total 9 columns):\n",
      " #   Column                      Non-Null Count  Dtype  \n",
      "---  ------                      --------------  -----  \n",
      " 0   product_id                  32951 non-null  object \n",
      " 1   product_category_name       32341 non-null  object \n",
      " 2   product_name_lenght         32341 non-null  float64\n",
      " 3   product_description_lenght  32341 non-null  float64\n",
      " 4   product_photos_qty          32341 non-null  float64\n",
      " 5   product_weight_g            32949 non-null  float64\n",
      " 6   product_length_cm           32949 non-null  float64\n",
      " 7   product_height_cm           32949 non-null  float64\n",
      " 8   product_width_cm            32949 non-null  float64\n",
      "dtypes: float64(7), object(2)\n",
      "memory usage: 2.3+ MB\n",
      "None\n",
      "\u001b[1m\u001b[34m\n",
      "Describtion:\u001b[0m\n",
      "|        | product_id                       | product_category_name   |   product_name_lenght |   product_description_lenght |   product_photos_qty |   product_weight_g |   product_length_cm |   product_height_cm |   product_width_cm |\n",
      "|:-------|:---------------------------------|:------------------------|----------------------:|-----------------------------:|---------------------:|-------------------:|--------------------:|--------------------:|-------------------:|\n",
      "| count  | 32951                            | 32341                   |            32341      |                    32341     |          32341       |           32949    |          32949      |          32949      |         32949      |\n",
      "| unique | 32951                            | 73                      |              nan      |                      nan     |            nan       |             nan    |            nan      |            nan      |           nan      |\n",
      "| top    | 1e9e8ef04dbcff4541ed26657ea517e5 | cama_mesa_banho         |              nan      |                      nan     |            nan       |             nan    |            nan      |            nan      |           nan      |\n",
      "| freq   | 1                                | 3029                    |              nan      |                      nan     |            nan       |             nan    |            nan      |            nan      |           nan      |\n",
      "| mean   | nan                              | nan                     |               48.4769 |                      771.495 |              2.18899 |            2276.47 |             30.8151 |             16.9377 |            23.1967 |\n",
      "| std    | nan                              | nan                     |               10.2457 |                      635.115 |              1.73677 |            4282.04 |             16.9145 |             13.6376 |            12.079  |\n",
      "| min    | nan                              | nan                     |                5      |                        4     |              1       |               0    |              7      |              2      |             6      |\n",
      "| 25%    | nan                              | nan                     |               42      |                      339     |              1       |             300    |             18      |              8      |            15      |\n",
      "| 50%    | nan                              | nan                     |               51      |                      595     |              1       |             700    |             25      |             13      |            20      |\n",
      "| 75%    | nan                              | nan                     |               57      |                      972     |              3       |            1900    |             38      |             21      |            30      |\n",
      "| max    | nan                              | nan                     |               76      |                     3992     |             20       |           40425    |            105      |            105      |           118      |\n"
     ]
    }
   ],
   "source": [
    "explore(df_sellers)"
   ]
  },
  {
   "cell_type": "code",
   "execution_count": 12,
   "id": "bfad6c3a",
   "metadata": {
    "execution": {
     "iopub.execute_input": "2022-02-21T14:55:17.579718Z",
     "iopub.status.busy": "2022-02-21T14:55:17.578966Z",
     "iopub.status.idle": "2022-02-21T14:55:17.596309Z",
     "shell.execute_reply": "2022-02-21T14:55:17.595378Z",
     "shell.execute_reply.started": "2022-02-21T14:54:06.015222Z"
    },
    "papermill": {
     "duration": 0.045591,
     "end_time": "2022-02-21T14:55:17.596516",
     "exception": false,
     "start_time": "2022-02-21T14:55:17.550925",
     "status": "completed"
    },
    "tags": []
   },
   "outputs": [
    {
     "name": "stdout",
     "output_type": "stream",
     "text": [
      "\u001b[1m\u001b[34m\n",
      "Head:\u001b[0m\n",
      "|    | product_category_name   | product_category_name_english   |\n",
      "|---:|:------------------------|:--------------------------------|\n",
      "|  0 | beleza_saude            | health_beauty                   |\n",
      "|  1 | informatica_acessorios  | computers_accessories           |\n",
      "|  2 | automotivo              | auto                            |\n",
      "\u001b[1m\u001b[34m\n",
      "Shape:\u001b[0m\n",
      "(71, 2)\n",
      "\u001b[1m\u001b[34m\n",
      "Information:\u001b[0m\n",
      "<class 'pandas.core.frame.DataFrame'>\n",
      "RangeIndex: 71 entries, 0 to 70\n",
      "Data columns (total 2 columns):\n",
      " #   Column                         Non-Null Count  Dtype \n",
      "---  ------                         --------------  ----- \n",
      " 0   product_category_name          71 non-null     object\n",
      " 1   product_category_name_english  71 non-null     object\n",
      "dtypes: object(2)\n",
      "memory usage: 1.2+ KB\n",
      "None\n",
      "\u001b[1m\u001b[34m\n",
      "Describtion:\u001b[0m\n",
      "|        | product_category_name   | product_category_name_english   |\n",
      "|:-------|:------------------------|:--------------------------------|\n",
      "| count  | 71                      | 71                              |\n",
      "| unique | 71                      | 71                              |\n",
      "| top    | beleza_saude            | health_beauty                   |\n",
      "| freq   | 1                       | 1                               |\n"
     ]
    }
   ],
   "source": [
    "explore(df_product_category_name)"
   ]
  },
  {
   "cell_type": "code",
   "execution_count": null,
   "id": "6da1d4e4",
   "metadata": {
    "papermill": {
     "duration": 0.024533,
     "end_time": "2022-02-21T14:55:17.647222",
     "exception": false,
     "start_time": "2022-02-21T14:55:17.622689",
     "status": "completed"
    },
    "tags": []
   },
   "outputs": [],
   "source": []
  }
 ],
 "metadata": {
  "kernelspec": {
   "display_name": "Python 3",
   "language": "python",
   "name": "python3"
  },
  "language_info": {
   "codemirror_mode": {
    "name": "ipython",
    "version": 3
   },
   "file_extension": ".py",
   "mimetype": "text/x-python",
   "name": "python",
   "nbconvert_exporter": "python",
   "pygments_lexer": "ipython3",
   "version": "3.7.12"
  },
  "papermill": {
   "default_parameters": {},
   "duration": 20.069973,
   "end_time": "2022-02-21T14:55:18.483932",
   "environment_variables": {},
   "exception": null,
   "input_path": "__notebook__.ipynb",
   "output_path": "__notebook__.ipynb",
   "parameters": {},
   "start_time": "2022-02-21T14:54:58.413959",
   "version": "2.3.3"
  }
 },
 "nbformat": 4,
 "nbformat_minor": 5
}
